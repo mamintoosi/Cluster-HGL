{
 "cells": [
  {
   "cell_type": "code",
   "execution_count": 1,
   "metadata": {},
   "outputs": [],
   "source": [
    "import pandas as pd\n",
    "import numpy as np\n",
    "# import networkx as nx\n",
    "# import stellargraph as sg\n",
    "# from bmdcluster import blockdiagonalBMD"
   ]
  },
  {
   "cell_type": "code",
   "execution_count": 1,
   "metadata": {},
   "outputs": [],
   "source": [
    "# import os.path as osp\n",
    "\n",
    "# import torch\n",
    "# import torch.nn.functional as F\n",
    "import torch_geometric.transforms as T\n",
    "from torch_geometric.datasets import OGB_MAG\n",
    "# from torch_geometric.nn import SAGEConv, HeteroConv, Linear\n",
    "\n",
    "path = '/mnt/c/temp/working/data/'\n",
    "transform = T.ToUndirected(merge=True)\n",
    "dataset = OGB_MAG(path, preprocess='metapath2vec', transform=transform)\n",
    "data = dataset[0]"
   ]
  },
  {
   "cell_type": "code",
   "execution_count": null,
   "metadata": {},
   "outputs": [],
   "source": [
    "data"
   ]
  },
  {
   "cell_type": "code",
   "execution_count": 6,
   "metadata": {},
   "outputs": [
    {
     "data": {
      "text/plain": [
       "['author', 'institution', 'paper']"
      ]
     },
     "execution_count": 6,
     "metadata": {},
     "output_type": "execute_result"
    }
   ],
   "source": [
    "all_relations = data.metadata()[1]\n",
    "# get all combinations, we will use this as indices for the columns later\n",
    "# indices = list(powerset(range(len(all_relations))))\n",
    "# # remove the empty subset\n",
    "# indices.pop(0)\n",
    "# for idx in indices:\n",
    "# # idx = indices[-3]\n",
    "#     r_idx = list(idx)\n",
    "r_idx = [0,1,2]\n",
    "r_list = [all_relations[x] for x in r_idx]\n",
    "# انتخاب دو رأس رابطه\n",
    "nodes = []\n",
    "for items in r_list:\n",
    "    if items[0] not in nodes:\n",
    "        nodes.append(items[0])\n",
    "    if items[-1] not in nodes:\n",
    "        nodes.append(items[-1])\n",
    "nodes            "
   ]
  },
  {
   "cell_type": "code",
   "execution_count": 5,
   "metadata": {},
   "outputs": [
    {
     "data": {
      "text/plain": [
       "'paper'"
      ]
     },
     "execution_count": 5,
     "metadata": {},
     "output_type": "execute_result"
    }
   ],
   "source": [
    "items[-1]"
   ]
  }
 ],
 "metadata": {
  "interpreter": {
   "hash": "acb5fe38fbd28c402c703fdbe5b19100300a03e07d3a6753113d2269daa5b738"
  },
  "kernelspec": {
   "display_name": "Python 3.7.6 64-bit ('base': conda)",
   "name": "python3"
  },
  "language_info": {
   "codemirror_mode": {
    "name": "ipython",
    "version": 3
   },
   "file_extension": ".py",
   "mimetype": "text/x-python",
   "name": "python",
   "nbconvert_exporter": "python",
   "pygments_lexer": "ipython3",
   "version": "3.7.6"
  }
 },
 "nbformat": 4,
 "nbformat_minor": 4
}
